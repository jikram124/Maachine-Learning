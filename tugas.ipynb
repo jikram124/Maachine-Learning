{
 "cells": [
  {
   "cell_type": "markdown",
   "id": "41443631-e1a2-4c51-8cde-f6bc55a4165b",
   "metadata": {},
   "source": [
    "MACHINE LEARNING "
   ]
  },
  {
   "cell_type": "markdown",
   "id": "e21ca8de-8a0a-4ffb-8af0-f6b103e0e6f9",
   "metadata": {},
   "source": [
    "Soal 1"
   ]
  },
  {
   "cell_type": "markdown",
   "id": "5326da38-6d25-4fcb-a74d-585836f3e98d",
   "metadata": {},
   "source": [
    "Buatlah identitas diri menggunakan pemograman python sederhana"
   ]
  },
  {
   "cell_type": "code",
   "execution_count": 1,
   "id": "1c33502e-1a38-401d-9ae8-c74104fe8b30",
   "metadata": {},
   "outputs": [
    {
     "name": "stdout",
     "output_type": "stream",
     "text": [
      "DATA DIRI\n",
      "Nama :  Putu Abhirama Wisma Pranaja\n",
      "NIM :  20220801447\n",
      "Perkuliahan:  Machine Learning\n"
     ]
    }
   ],
   "source": [
    "#jawaban soal 1\n",
    "nama = \"Putu Abhirama Wisma Pranaja\"\n",
    "nim = \"20220801447\"\n",
    "mata_kuliah = \"Machine Learning\"\n",
    "\n",
    "print(\"DATA DIRI\")\n",
    "print(\"Nama : \", nama)\n",
    "print(\"NIM : \", nim)\n",
    "print(\"Perkuliahan: \", mata_kuliah)"
   ]
  },
  {
   "cell_type": "markdown",
   "id": "fa15c8cf-1b36-497d-bec5-372453ed0690",
   "metadata": {},
   "source": [
    "Soal 2 "
   ]
  },
  {
   "cell_type": "markdown",
   "id": "2113e3de-b347-4d40-90b7-855f4348fe89",
   "metadata": {},
   "source": [
    "Buatlah matriksC dengan orde 2x3, dan nilai yang diberikan pada matriksC adalah sebagai berikut:\n",
    "\n",
    "Baris 1 Kolom 1, nilai = 1\n",
    "Baris 1 Kolom 2, nilai = 2\n",
    "Baris 1 Kolom 3, nilai = 3\n",
    "Baris 2 Kolom 1, nilai = 4\n",
    "Baris 2 Kolom 2, nilai = 5\n",
    "Baris 2 Kolom 3, nilai = 6"
   ]
  },
  {
   "cell_type": "code",
   "execution_count": 2,
   "id": "a7e6f9fd-5571-47f6-80fa-997c2fee1e5c",
   "metadata": {},
   "outputs": [
    {
     "name": "stdout",
     "output_type": "stream",
     "text": [
      "[[1, 2, 3], [4, 5, 6]]\n"
     ]
    }
   ],
   "source": [
    "#jawaban soal2\n",
    "matriksC= [[1,2,3],[4,5,6]]\n",
    "print(matriksC)"
   ]
  },
  {
   "cell_type": "markdown",
   "id": "55ffc8be-8627-4f73-80e8-15989a0b38fb",
   "metadata": {},
   "source": [
    "Soal 3"
   ]
  },
  {
   "cell_type": "markdown",
   "id": "77df809f-94f7-47ee-8eae-14361b103cfb",
   "metadata": {},
   "source": [
    "Buatlah matriks dengan orde 3x2, dengan nilai adalah:\n",
    "\n",
    "Baris 1 Kolom 1, nilai = 2\n",
    "Baris 1 Kolom 2, nilai = 2\n",
    "Baris 2 Kolom 1, nilai = 2\n",
    "Baris 2 Kolom 2, nilai = 2\n",
    "Baris 3 Kolom 1, nilai = 2\n",
    "Baris 3 Kolom 2, nilai = 2"
   ]
  },
  {
   "cell_type": "code",
   "execution_count": 4,
   "id": "ab584dc1-9990-4670-9afe-469fb3057893",
   "metadata": {},
   "outputs": [
    {
     "name": "stdout",
     "output_type": "stream",
     "text": [
      "[[2, 2], [2, 2], [2, 2]]\n"
     ]
    }
   ],
   "source": [
    "#jawaban soal 3\n",
    "matriks = [[2,2],[2,2],[2,2]]\n",
    "print(matriks)"
   ]
  },
  {
   "cell_type": "markdown",
   "id": "b0e252e1-7fe4-4934-a89e-fab17cdccb3c",
   "metadata": {},
   "source": [
    "Soal 4"
   ]
  },
  {
   "cell_type": "markdown",
   "id": "1971e4d9-e74c-4180-8757-17da330aaf1f",
   "metadata": {},
   "source": [
    "Importlah library Numpy"
   ]
  },
  {
   "cell_type": "code",
   "execution_count": 7,
   "id": "906028b3-512a-4794-ada1-89b8a31848d2",
   "metadata": {},
   "outputs": [],
   "source": [
    "import numpy as np"
   ]
  },
  {
   "cell_type": "markdown",
   "id": "3af4f168-5770-43de-a8b3-10b85492aca6",
   "metadata": {},
   "source": [
    "Soal 5 "
   ]
  },
  {
   "cell_type": "markdown",
   "id": "bdb5b8ef-fb57-4fbf-a8eb-ff44625599ba",
   "metadata": {},
   "source": [
    "Dengan memanfaatkan library numpy Buatlah matriks dengan menggunakan Library Numpy dengan panjang elemen adalah 32 dan matriks memiliki orde 4x8"
   ]
  },
  {
   "cell_type": "code",
   "execution_count": 8,
   "id": "ef120df5-01f6-43b7-896b-7d10426fdf0a",
   "metadata": {},
   "outputs": [
    {
     "name": "stdout",
     "output_type": "stream",
     "text": [
      "[[ 0  1  2  3  4  5  6  7]\n",
      " [ 8  9 10 11 12 13 14 15]\n",
      " [16 17 18 19 20 21 22 23]\n",
      " [24 25 26 27 28 29 30 31]]\n"
     ]
    }
   ],
   "source": [
    "#jawaban 5\n",
    "from numpy import *\n",
    "matriks = range(32)\n",
    "matriks = reshape(matriks, (4,8))\n",
    "print(matriks)"
   ]
  },
  {
   "cell_type": "markdown",
   "id": "8da5906b-90d9-431b-a041-a92cc6adce66",
   "metadata": {},
   "source": [
    "Soal 6 "
   ]
  },
  {
   "cell_type": "markdown",
   "id": "e156df1e-a5d3-42c0-a32c-f376864354d3",
   "metadata": {},
   "source": [
    "Buatlah matriks dengan menggunakan Library Numpy dengan orde 3x30, dan nilai elemen dimulai dari indeks 1 sampai dengan 5 secara random."
   ]
  },
  {
   "cell_type": "code",
   "execution_count": 9,
   "id": "ffc5cc2c-4e76-4431-a152-6b2d970e845a",
   "metadata": {},
   "outputs": [
    {
     "name": "stdout",
     "output_type": "stream",
     "text": [
      "[[3 3 2 4 4 1 3 1 4 1 4 1 1 3 4 3 4 3 3 1 3 2 3 2 3 1 1 4 2 2]\n",
      " [1 2 3 4 2 3 1 4 3 4 2 4 1 1 1 4 1 4 1 4 3 2 1 2 2 2 1 1 1 1]\n",
      " [3 4 3 2 1 3 2 3 1 1 2 2 2 1 3 1 3 4 1 4 4 3 2 2 3 1 3 2 2 1]]\n"
     ]
    }
   ],
   "source": [
    "#jawaban 6\n",
    "import numpy as np\n",
    "from numpy import *\n",
    "\n",
    "matriks = np.random.randint(1,5,(3,30))\n",
    "print(matriks)"
   ]
  }
 ],
 "metadata": {
  "kernelspec": {
   "display_name": "Python 3 (ipykernel)",
   "language": "python",
   "name": "python3"
  },
  "language_info": {
   "codemirror_mode": {
    "name": "ipython",
    "version": 3
   },
   "file_extension": ".py",
   "mimetype": "text/x-python",
   "name": "python",
   "nbconvert_exporter": "python",
   "pygments_lexer": "ipython3",
   "version": "3.10.6"
  }
 },
 "nbformat": 4,
 "nbformat_minor": 5
}
